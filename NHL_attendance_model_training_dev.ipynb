{
 "cells": [
  {
   "cell_type": "code",
   "execution_count": 114,
   "metadata": {
    "scrolled": true
   },
   "outputs": [],
   "source": [
    "import xgboost as xgb\n",
    "import lightgbm as lgb\n",
    "import tensorflow as tf\n",
    "\n",
    "from tensorflow.keras import Sequential \n",
    "from tensorflow.keras.layers import Dense \n",
    "\n",
    "from sklearn.metrics import mean_squared_error\n",
    "from sklearn.linear_model import LinearRegression\n",
    "from sklearn import tree, linear_model\n",
    "from sklearn.model_selection import train_test_split\n",
    "from sklearn.metrics import explained_variance_score\n",
    "from sklearn.model_selection import cross_val_score\n",
    "from sklearn.model_selection import GridSearchCV   \n",
    "import pandas as pd\n",
    "import numpy as np"
   ]
  },
  {
   "cell_type": "code",
   "execution_count": 115,
   "metadata": {},
   "outputs": [],
   "source": [
    "def myround(x, prec, base):\n",
    "    if x<0.75: x=0.751\n",
    "    if x>.95: x=0.951\n",
    "    return round((x - (x%base))*100,0)\n",
    "    #return round(base * round(x/base),prec)*100"
   ]
  },
  {
   "cell_type": "code",
   "execution_count": 116,
   "metadata": {},
   "outputs": [],
   "source": [
    "added_features=pd.read_csv('assets/event_features.csv')\n",
    "added_features=added_features.dropna()\n",
    "added_features.rename(columns = {'event_id':'game_id'}, inplace = True)"
   ]
  },
  {
   "cell_type": "code",
   "execution_count": 117,
   "metadata": {},
   "outputs": [],
   "source": [
    "game_feature=pd.read_csv('training_data/game_feature_predict_nhl.csv')\n",
    "game_feature=pd.merge(game_feature, added_features,  how='left', on=['game_id'])\n",
    "game_feature.to_csv('check.csv')\n",
    "game_feature=game_feature.dropna()\n",
    "\n",
    "scan_cat=[]\n",
    "for index, row in game_feature.iterrows():\n",
    "      scan_cat.append(myround(row['scan_rate'],2,.05))\n",
    "\n",
    "game_feature['scan_category']=scan_cat"
   ]
  },
  {
   "cell_type": "code",
   "execution_count": 118,
   "metadata": {},
   "outputs": [],
   "source": [
    "#keep just features and response\n",
    "X=game_feature[[\\\n",
    "'distance',\\\n",
    "'distance_z',\\\n",
    "'home_max_attendance',\\\n",
    "'home_max_attendance_z',\\\n",
    "'home_avg_attendance',\\\n",
    "'home_avg_attendance_z',\\\n",
    "'away_max_attendance',\\\n",
    "'away_max_attendance_z',\\\n",
    "'away_avg_attendance',\\\n",
    "'away_avg_attendance_z',\\\n",
    "'weekend_flag',\\\n",
    "'first_game_flag',\\\n",
    "'wl_ratio',\\\n",
    "'pct_neg_streak',\\\n",
    "'pct_pos_streak_gt_2_days',\\\n",
    "'pct_c10_neg_streak_days',\\\n",
    "'pct_c10_pos_streak_gt_2_days',\\\n",
    "'Friday',\\\n",
    "'Monday',\\\n",
    "'Saturday',\\\n",
    "'Sunday',\\\n",
    "'Thursday',\\\n",
    "'Tuesday',\\\n",
    "'Wednesday',\\\n",
    "'h_1_a_1',\\\n",
    "'h_1_a_2',\\\n",
    "'h_2_a_1',\\\n",
    "'h_2_a_2',\\\n",
    "'h_2_a_3',\\\n",
    "'h_3_a_2',\\\n",
    "'h_3_a_3',\\\n",
    "'c_sell_through_avg_shift_fix',\\\n",
    "'c_scan_through_avg_shift_fix',\\\n",
    "'c_scan_rate_avg_shift_fix',\\\n",
    "'sell_through_avg',\\\n",
    "'scan_through_avg',\\\n",
    "'scan_rate_avg']]\n",
    "\n",
    "#keep just features and response\n",
    "y=game_feature[['scan_category']]"
   ]
  },
  {
   "cell_type": "code",
   "execution_count": 119,
   "metadata": {},
   "outputs": [],
   "source": [
    "#read in data\n",
    "game_feature_current=pd.read_csv('training_data/game_feature_predict_nhl_current.csv')\n",
    "game_feature_current.to_csv('check_curr.csv')\n",
    "#game_feature_current=pd.merge(game_feature_current, added_features,  how='left', on=['game_id'])\n",
    "game_feature_current=game_feature_current.dropna()\n",
    "\n",
    "scan_cat=[]\n",
    "for index, row in game_feature_current.iterrows():\n",
    "      scan_cat.append(myround(row['scan_rate'],2,.05))\n",
    "\n",
    "game_feature_current['scan_category']=scan_cat\n"
   ]
  },
  {
   "cell_type": "code",
   "execution_count": 120,
   "metadata": {},
   "outputs": [],
   "source": [
    "#keep just features and response\n",
    "X_current=game_feature_current[[\\\n",
    "'distance',\\\n",
    "'distance_z',\\\n",
    "'home_max_attendance',\\\n",
    "'home_max_attendance_z',\\\n",
    "'home_avg_attendance',\\\n",
    "'home_avg_attendance_z',\\\n",
    "'away_max_attendance',\\\n",
    "'away_max_attendance_z',\\\n",
    "'away_avg_attendance',\\\n",
    "'away_avg_attendance_z',\\\n",
    "'weekend_flag',\\\n",
    "'first_game_flag',\\\n",
    "'wl_ratio',\\\n",
    "'pct_neg_streak',\\\n",
    "'pct_pos_streak_gt_2_days',\\\n",
    "'pct_c10_neg_streak_days',\\\n",
    "'pct_c10_pos_streak_gt_2_days',\\\n",
    "'Friday',\\\n",
    "'Monday',\\\n",
    "'Saturday',\\\n",
    "'Sunday',\\\n",
    "'Thursday',\\\n",
    "'Tuesday',\\\n",
    "'Wednesday',\\\n",
    "'h_1_a_1',\\\n",
    "'h_1_a_2',\\\n",
    "'h_2_a_1',\\\n",
    "'h_2_a_2',\\\n",
    "'h_2_a_3',\\\n",
    "'h_3_a_2',\\\n",
    "'h_3_a_3',\\\n",
    "'c_sell_through_avg_shift_fix',\\\n",
    "'c_scan_through_avg_shift_fix',\\\n",
    "'c_scan_rate_avg_shift_fix',\\\n",
    "'sell_through_avg',\\\n",
    "'scan_through_avg',\\\n",
    "'scan_rate_avg']]\n",
    "\n",
    "#keep just features and response\n",
    "y_current=game_feature_current[['scan_category']]"
   ]
  },
  {
   "cell_type": "code",
   "execution_count": 121,
   "metadata": {},
   "outputs": [],
   "source": [
    "X=pd.concat([X, X_current], ignore_index=True)\n",
    "y=pd.concat([y, y_current], ignore_index=True)"
   ]
  },
  {
   "cell_type": "code",
   "execution_count": 122,
   "metadata": {},
   "outputs": [],
   "source": [
    "from sklearn.model_selection import train_test_split\n",
    "X_train, X_test, y_train, y_test = train_test_split(X, y, test_size=0.2, random_state=123)"
   ]
  },
  {
   "cell_type": "code",
   "execution_count": 123,
   "metadata": {},
   "outputs": [],
   "source": [
    "dtrain = xgb.DMatrix(data=X_train,label=y_train)\n",
    "dtest = xgb.DMatrix(data=X_test,label=y_test)"
   ]
  },
  {
   "cell_type": "code",
   "execution_count": 124,
   "metadata": {},
   "outputs": [],
   "source": [
    "xg_reg = xgb.XGBRegressor(objective ='multi:softprob',\\\n",
    "                          colsample_bytree = 0.9,\\\n",
    "                          learning_rate = 0.1,\\\n",
    "                          max_depth = 9,\\\n",
    "                          alpha = 10,n_estimators = 10,num_class=100)"
   ]
  },
  {
   "cell_type": "code",
   "execution_count": 125,
   "metadata": {
    "scrolled": true
   },
   "outputs": [],
   "source": [
    "xg_reg.fit(X_train,y_train)\n",
    "preds = xg_reg.predict(X_test)"
   ]
  },
  {
   "cell_type": "code",
   "execution_count": 126,
   "metadata": {
    "scrolled": true
   },
   "outputs": [],
   "source": [
    "best_preds_xg = np.asarray([np.argmax(line) for line in preds])"
   ]
  },
  {
   "cell_type": "code",
   "execution_count": 127,
   "metadata": {
    "scrolled": true
   },
   "outputs": [
    {
     "name": "stdout",
     "output_type": "stream",
     "text": [
      "0.629247311827957\n"
     ]
    }
   ],
   "source": [
    "from sklearn.metrics import precision_score\n",
    "print(precision_score(y_test, best_preds_xg, average='macro'))"
   ]
  },
  {
   "cell_type": "code",
   "execution_count": 128,
   "metadata": {},
   "outputs": [],
   "source": [
    "train_data = lgb.Dataset(X_train, label=y_train)\n",
    "test_data = lgb.Dataset(X_test, label=y_test)"
   ]
  },
  {
   "cell_type": "code",
   "execution_count": 167,
   "metadata": {},
   "outputs": [
    {
     "name": "stdout",
     "output_type": "stream",
     "text": [
      "Training until validation scores don't improve for 100 rounds\n",
      "Did not meet early stopping. Best iteration is:\n",
      "[70]\tvalid_0's multi_logloss: 0.988661\n"
     ]
    }
   ],
   "source": [
    "parameters = {\n",
    "          \"objective\" : \"multiclass\",\n",
    "          \"num_class\" : 100,\n",
    "          \"num_leaves\" : 10,\n",
    "          \"max_depth\": 8,\n",
    "          \"learning_rate\" : 0.1,\n",
    "          \"bagging_fraction\" : 0.9,  # subsample\n",
    "          \"feature_fraction\" : 0.7,  # colsample_bytree\n",
    "          \"bagging_freq\" : 3,        # subsample_freq\n",
    "          \"bagging_seed\" : 2018,\n",
    "          \"verbosity\" : 1 }\n",
    "\n",
    "gbm_model = lgb.train(parameters,\n",
    "                       train_data,\n",
    "                       valid_sets=test_data,\n",
    "                       verbose_eval=200,\n",
    "                       early_stopping_rounds=100)"
   ]
  },
  {
   "cell_type": "code",
   "execution_count": 168,
   "metadata": {
    "scrolled": true
   },
   "outputs": [
    {
     "name": "stdout",
     "output_type": "stream",
     "text": [
      "0.6965848965848965\n"
     ]
    }
   ],
   "source": [
    "y_out = gbm_model.predict(X_test)\n",
    "best_preds_lgb = np.asarray([np.argmax(line) for line in y_out])\n",
    "print(precision_score(y_test, best_preds_lgb, average='macro'))"
   ]
  },
  {
   "cell_type": "code",
   "execution_count": 169,
   "metadata": {},
   "outputs": [],
   "source": [
    "test_scan = y_test['scan_category'].tolist()\n",
    "results_df = pd.DataFrame(list(zip(test_scan, best_preds_xg, best_preds_lgb)), columns =['test_scan', 'best_preds_xg', 'best_preds_lgb']) \n",
    "results_df.to_csv('nhl_modeling_results.csv')"
   ]
  },
  {
   "cell_type": "code",
   "execution_count": 109,
   "metadata": {},
   "outputs": [],
   "source": [
    "gbm_model.save_model('model_store/nhl_scan_prediction_lgb.txt')\n",
    "feature_importance = pd.DataFrame({'Feature': gbm_model.feature_name(),'Importance': list(gbm_model.feature_importance())})\n",
    "feature_importance.sort_values(by='Importance', ascending=False, inplace=True)\n",
    "feature_importance.to_csv('model_store/nhl_lgbm_feature_importance.csv')"
   ]
  },
  {
   "cell_type": "code",
   "execution_count": 110,
   "metadata": {},
   "outputs": [],
   "source": [
    "xg_reg.save_model(\"model_store/nhl_scan_prediction.model\")"
   ]
  }
 ],
 "metadata": {
  "kernelspec": {
   "display_name": "Python 3",
   "language": "python",
   "name": "python3"
  },
  "language_info": {
   "codemirror_mode": {
    "name": "ipython",
    "version": 3
   },
   "file_extension": ".py",
   "mimetype": "text/x-python",
   "name": "python",
   "nbconvert_exporter": "python",
   "pygments_lexer": "ipython3",
   "version": "3.7.3"
  }
 },
 "nbformat": 4,
 "nbformat_minor": 2
}
